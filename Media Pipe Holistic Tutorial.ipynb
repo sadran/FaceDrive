{
 "cells": [
  {
   "cell_type": "markdown",
   "metadata": {},
   "source": [
    "Imports"
   ]
  },
  {
   "cell_type": "code",
   "execution_count": 149,
   "metadata": {},
   "outputs": [],
   "source": [
    "import mediapipe as mp\n",
    "import cv2\n",
    "import numpy as np"
   ]
  },
  {
   "cell_type": "markdown",
   "metadata": {},
   "source": [
    "The `FaseGestureDetector` class analyzes facial gesture and features using Mediapipe landmarks. \n",
    "It provides methods to extract 2D coordinates of ears, nose, and lips, and determines head direction \n",
    "(`left`, `right`, `center`, or `undifined`) and lips position (`mouth_open`, `mouth_closed`, or `undifined`)."
   ]
  },
  {
   "cell_type": "code",
   "execution_count": 166,
   "metadata": {},
   "outputs": [],
   "source": [
    "class FaseGestureDetector():\n",
    "    def __init__(self, head_dir_fact=0.5, lips_pos_fact = 1):\n",
    "        self.mp_drawing = mp.solutions.drawing_utils\n",
    "        self.mp_holistic = mp.solutions.holistic\n",
    "        self.holistic = self.mp_holistic.Holistic(min_detection_confidence=0.5, min_tracking_confidence=0.5)\n",
    "\n",
    "        self.draw_fasemesh_landmarks = False\n",
    "        self.draw_pose_landmarks = True\n",
    "        self.head_dir_fact = head_dir_fact  # determines the head direction detection sensitivity. (0< and >1) \n",
    "        self.lips_pos_fact = lips_pos_fact  # determins the lips position detection sensitivity. (<0 and <2)\n",
    "\n",
    "    def ears(self, pose_landmarks, image_shape):\n",
    "        \"\"\" Returns 2D coordinates of left and right ears based on the pose landmarks estimated by mediapipe\"\"\"\n",
    "        if pose_landmarks:\n",
    "            landmarks = pose_landmarks.landmark\n",
    "            left_ear_2d = np.array([landmarks[mp.solutions.pose.PoseLandmark.LEFT_EAR].x * image_shape[1],\n",
    "                                landmarks[mp.solutions.pose.PoseLandmark.LEFT_EAR].y * image_shape[0]], dtype=int)\n",
    "            right_ear_2d = np.array([landmarks[mp.solutions.pose.PoseLandmark.RIGHT_EAR].x * image_shape[1],\n",
    "                                landmarks[mp.solutions.pose.PoseLandmark.RIGHT_EAR].y * image_shape[0]], dtype=int)\n",
    "            return left_ear_2d, right_ear_2d\n",
    "        return None, None\n",
    "    \n",
    "    def nose(self, pose_landmarks, image_shape):\n",
    "        \"\"\" Returns 2D coordinates of the nose based on the pose landmarks estimated by mediapipe\"\"\"\n",
    "        if pose_landmarks:\n",
    "            landmarks = pose_landmarks.landmark\n",
    "            nose_2d = np.array([landmarks[mp.solutions.pose.PoseLandmark.NOSE].x * image_shape[1],\n",
    "                                landmarks[mp.solutions.pose.PoseLandmark.NOSE].y * image_shape[0]], dtype=int)\n",
    "            return nose_2d\n",
    "        return None\n",
    "    \n",
    "    def lips(self, facemesh_landmarks, image_shape):\n",
    "        \"\"\" Returns 2D coordinates of upper and lower lips base of the facemesh landmarks estimated by mediapipe\"\"\"\n",
    "        if facemesh_landmarks:\n",
    "            landmarks = facemesh_landmarks.landmark\n",
    "            upper_lip_2d = np.array([landmarks[0].x * image_shape[1],\n",
    "                                landmarks[0].y * image_shape[0]], dtype=int)      # Index 0 in the facemesh landmarks belongs to the upper lip\n",
    "            lower_lip_2d = np.array([landmarks[17].x * image_shape[1],\n",
    "                                landmarks[17].y * image_shape[0]], dtype=int)     # Index 17 in the facemesh landmarks belongs to the lower lip\n",
    "            return upper_lip_2d, lower_lip_2d\n",
    "        return None, None\n",
    "    \n",
    "    def detect_face_gesture(self, frame):\n",
    "        \"\"\"\n",
    "        Detects the face gesture based on the pose and facemesh landmarks provided by Mediapipe.\n",
    "\n",
    "        Returns:\n",
    "            A dictionary containing:\n",
    "            - 'head_direction': The direction of the head ('left', 'right', 'center', or None).\n",
    "            - 'lips_position': The position of the lips ('mouth_open', 'mouth_closed', or None).\n",
    "            An Image with the drawings of the landmarks.\n",
    "        \"\"\"\n",
    "        face_gesture = {'face_detected': False,\n",
    "                        'head_direction': None, \n",
    "                        'lips_position': None}\n",
    "        \n",
    "        # Recolor the frame from GBR to RGB\n",
    "        frame = cv2.cvtColor(frame, cv2.COLOR_BGR2RGB)\n",
    "        # Make Detections\n",
    "        results = self.holistic.process(frame)\n",
    "        # Recolor image back to BGR for rendering\n",
    "        frame = cv2.cvtColor(frame, cv2.COLOR_RGB2BGR)\n",
    "        # (image height, image width) of the image in pixels\n",
    "        image_shape = (frame.shape[0], frame.shape[1])\n",
    "        \n",
    "        if not results.pose_landmarks:\n",
    "            return face_gesture, frame\n",
    "        \n",
    "        # drawing the landmarks on the image\n",
    "        if self.draw_pose_landmarks:\n",
    "            self.mp_drawing.draw_landmarks(frame, results.pose_landmarks, self.mp_holistic.POSE_CONNECTIONS)\n",
    "        if self.draw_fasemesh_landmarks:\n",
    "            self.mp_drawing.draw_landmarks(frame, results.face_landmarks, self.mp_holistic.FACEMESH_TESSELATION)\n",
    "        \n",
    "        # 2D coordinates of the left and right ears in pixels: (px, py)\n",
    "        left_ear_2d, right_ear_2d = self.ears(results.pose_landmarks, image_shape)\n",
    "        # 2D coordinates of the nose in pixels: (px, py)\n",
    "        nose_2d = self.nose(results.pose_landmarks, image_shape)\n",
    "        # 2D coordinates of the upper and lower lips in pixels: (px, py)\n",
    "        upper_lip_2d, lower_lip_2d = self.lips(results.face_landmarks, image_shape)\n",
    "\n",
    "        # detecting the head direction\n",
    "        if left_ear_2d is not None and right_ear_2d is not None and nose_2d is not None: \n",
    "            # when the face is turned to left, from camera perspective (x-y plane), left ear is closer to the nose\n",
    "            if abs(left_ear_2d[0] - nose_2d[0]) / abs(right_ear_2d[0] - nose_2d[0]) < 1 - self.head_dir_fact:\n",
    "                face_gesture['head_direction'] = \"left\"\n",
    "            # when the face is turned to write, from camera perspective (x-y plane), right ear is closer to the nose\n",
    "            elif abs(left_ear_2d[0] - nose_2d[0]) / abs(right_ear_2d[0] - nose_2d[0]) > 1 + self.head_dir_fact:\n",
    "                face_gesture['head_direction'] = \"right\"\n",
    "            # when the face is looking forward, left and right ears are in a same distance from the noce from the camera perspective\n",
    "            else:\n",
    "                face_gesture['head_direction'] = \"center\"   \n",
    "\n",
    "        # detecting the lips' position\n",
    "        if upper_lip_2d is not None and lower_lip_2d is not None:\n",
    "            if lower_lip_2d[1] - upper_lip_2d[1] > 30 * self.lips_pos_fact:\n",
    "                face_gesture['lips_position'] = \"mouth_open\"\n",
    "            else:\n",
    "                face_gesture['lips_position']= \"mouth_closed\"\n",
    "\n",
    "        return face_gesture, frame\n",
    "        "
   ]
  },
  {
   "cell_type": "code",
   "execution_count": 167,
   "metadata": {},
   "outputs": [
    {
     "name": "stderr",
     "output_type": "stream",
     "text": [
      "C:\\Users\\Admin\\AppData\\Local\\Temp\\ipykernel_15944\\603589459.py:85: RuntimeWarning: divide by zero encountered in scalar divide\n",
      "  if abs(left_ear_2d[0] - nose_2d[0]) / abs(right_ear_2d[0] - nose_2d[0]) < 1 - self.head_dir_fact:\n",
      "C:\\Users\\Admin\\AppData\\Local\\Temp\\ipykernel_15944\\603589459.py:88: RuntimeWarning: divide by zero encountered in scalar divide\n",
      "  elif abs(left_ear_2d[0] - nose_2d[0]) / abs(right_ear_2d[0] - nose_2d[0]) > 1 + self.head_dir_fact:\n"
     ]
    },
    {
     "ename": "KeyboardInterrupt",
     "evalue": "",
     "output_type": "error",
     "traceback": [
      "\u001b[1;31m---------------------------------------------------------------------------\u001b[0m",
      "\u001b[1;31mKeyboardInterrupt\u001b[0m                         Traceback (most recent call last)",
      "Cell \u001b[1;32mIn[167], line 18\u001b[0m\n\u001b[0;32m     14\u001b[0m     cv2\u001b[38;5;241m.\u001b[39mputText(image, \u001b[38;5;124mf\u001b[39m\u001b[38;5;124m\"\u001b[39m\u001b[38;5;124mlips position: \u001b[39m\u001b[38;5;132;01m{\u001b[39;00mface_gesture[\u001b[38;5;124m'\u001b[39m\u001b[38;5;124mlips_position\u001b[39m\u001b[38;5;124m'\u001b[39m]\u001b[38;5;132;01m}\u001b[39;00m\u001b[38;5;124m\"\u001b[39m, (\u001b[38;5;241m20\u001b[39m, \u001b[38;5;241m80\u001b[39m), cv2\u001b[38;5;241m.\u001b[39mFONT_HERSHEY_SIMPLEX, \u001b[38;5;241m0.5\u001b[39m, (\u001b[38;5;241m255\u001b[39m, \u001b[38;5;241m0\u001b[39m, \u001b[38;5;241m255\u001b[39m), \u001b[38;5;241m2\u001b[39m)\n\u001b[0;32m     16\u001b[0m     cv2\u001b[38;5;241m.\u001b[39mimshow(\u001b[38;5;124m'\u001b[39m\u001b[38;5;124mRaw Webcam Feed\u001b[39m\u001b[38;5;124m'\u001b[39m, image)\n\u001b[1;32m---> 18\u001b[0m     \u001b[38;5;28;01mif\u001b[39;00m \u001b[43mcv2\u001b[49m\u001b[38;5;241;43m.\u001b[39;49m\u001b[43mwaitKey\u001b[49m\u001b[43m(\u001b[49m\u001b[38;5;241;43m10\u001b[39;49m\u001b[43m)\u001b[49m \u001b[38;5;241m&\u001b[39m \u001b[38;5;241m0xFF\u001b[39m \u001b[38;5;241m==\u001b[39m \u001b[38;5;28mord\u001b[39m(\u001b[38;5;124m'\u001b[39m\u001b[38;5;124mq\u001b[39m\u001b[38;5;124m'\u001b[39m):\n\u001b[0;32m     19\u001b[0m         \u001b[38;5;28;01mbreak\u001b[39;00m\n\u001b[0;32m     21\u001b[0m cap\u001b[38;5;241m.\u001b[39mrelease()\n",
      "\u001b[1;31mKeyboardInterrupt\u001b[0m: "
     ]
    }
   ],
   "source": [
    "# Initialize the face gesture detector\n",
    "face_gesture_detector = FaseGestureDetector()\n",
    "face_gesture_detector.draw_pose_landmarks = True\n",
    "face_gesture_detector.draw_fasemesh_landmarks = False\n",
    "\n",
    "cap = cv2.VideoCapture(0)\n",
    "    \n",
    "while cap.isOpened():\n",
    "    ret, frame = cap.read()\n",
    "        \n",
    "    face_gesture, image = face_gesture_detector.detect_face_gesture(frame)\n",
    "\n",
    "    cv2.putText(image, f\"head direction: {face_gesture['head_direction']}\", (20, 40), cv2.FONT_HERSHEY_SIMPLEX, 0.5, (255, 0, 255), 2)\n",
    "    cv2.putText(image, f\"lips position: {face_gesture['lips_position']}\", (20, 80), cv2.FONT_HERSHEY_SIMPLEX, 0.5, (255, 0, 255), 2)\n",
    "\n",
    "    cv2.imshow('Raw Webcam Feed', image)\n",
    "\n",
    "    if cv2.waitKey(10) & 0xFF == ord('q'):\n",
    "        break\n",
    "\n",
    "cap.release()\n",
    "cv2.destroyAllWindows()"
   ]
  },
  {
   "cell_type": "code",
   "execution_count": 165,
   "metadata": {},
   "outputs": [],
   "source": [
    "cap.release()\n",
    "cv2.destroyAllWindows()"
   ]
  }
 ],
 "metadata": {
  "kernelspec": {
   "display_name": "carla-cp39",
   "language": "python",
   "name": "python3"
  },
  "language_info": {
   "codemirror_mode": {
    "name": "ipython",
    "version": 3
   },
   "file_extension": ".py",
   "mimetype": "text/x-python",
   "name": "python",
   "nbconvert_exporter": "python",
   "pygments_lexer": "ipython3",
   "version": "3.9.21"
  }
 },
 "nbformat": 4,
 "nbformat_minor": 2
}
